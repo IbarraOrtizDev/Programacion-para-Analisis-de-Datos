{
 "cells": [
  {
   "cell_type": "markdown",
   "metadata": {},
   "source": [
    "<div style=\"text-align:center\">\n",
    "<img style=\"width:300px\" src=\"https://www.iudigital.edu.co/images/11.-IU-DIGITAL.png\"/>\n",
    "</div>\n",
    "\n",
    "<br/>\n",
    "\n",
    "<div style=\"text-align:center\">\n",
    " <h2>Evidencia de aprendizaje 1. Análisis y herramientas de extracción de datos</h2>\n",
    "</div>\n",
    "<br/>\n",
    "<div style=\"text-align:center\">\n",
    " <h3>Edwin Alexander Ibarra Ortiz</h3>\n",
    " <h3>PREICA2402B020101</h3>\n",
    "</div>\n",
    "<br/>\n",
    "<br/>\n",
    "\n",
    "<div style=\"text-align:center\">\n",
    " <h3>IU Digital de Antioquia</h3>\n",
    " <h3>Ingeniería de Software y Datos</h3>\n",
    " <h3>2024</h3>\n",
    "</div>\n",
    "\n",
    "\n",
    "## Introducción\n",
    "\n",
    "En un mercado competitivo, una adecuada estrategia de precios es fundamental para captar y retener clientes. Este proyecto plantea el uso de técnicas de web scraping para obtener información en tiempo real sobre los precios de productos similares que ofrecen los competidores. A través de la recolección y análisis de datos de precios y características de productos en diversos sitios web, se busca optimizar la estrategia de precios de una compañía comercializadora al introducir nuevos artículos al mercado.\n",
    "\n",
    "Con esta metodología, la empresa podrá acceder a información actualizada y eficiente sobre el comportamiento de precios, identificar tendencias, y hacer ajustes en sus propios precios para ganar competitividad. Este proceso permite, además, explorar otros factores que pueden influir en las decisiones de compra, tales como descuentos, reseñas y valoraciones de los usuarios, lo cual ofrece una visión integral del mercado.\n",
    "\n",
    "El desarrollo de esta herramienta representa una oportunidad para implementar decisiones basadas en datos y mejorar la posición de la empresa en el sector, garantizando que los productos se mantengan atractivos y competitivos en relación con los de otras marcas.\n",
    "\n",
    "## Descripción de la pagina y articulo a analizar\n",
    "\n",
    "Para el desarrollo del proyecto se tomaran en cuenta tres paginas las cuales son: \n",
    "- Mercado Libre\n",
    "- Alkomprar\n",
    "\n",
    "El ideal es conseguir informacion detallada de los productos, como el precio, calificación, descripción y detalles del mismo\n",
    "\n",
    "## Descripción del tema de interés que deseas desarrollar en la primera práctica.\n",
    "\n",
    "En esta primera actividad, el objetivo es construir una funcionalidad básica que permita consultar de manera independiente diversas plataformas de comercio electrónico. Este desarrollo representa un primer acercamiento al Producto Mínimo Viable (MVP), que facilitará la recolección de datos clave, como precios y características de productos competidores, en un formato estructurado. Utilizando herramientas de web scraping, se busca obtener esta información en un formato estándar que sirva como base para análisis posteriores, asegurando flexibilidad y escalabilidad en futuras iteraciones del proyecto.\n",
    "\n",
    "## Objetivos: formula los objetivos a partir de la siguiente pregunta: ¿por qué deseas analizar este artículo y la empresa de comercio?\n",
    "\n",
    "### Objetivo general:\n",
    "\n",
    "Desarrollar una plataforma que permita a la empresa de comercio ajustar sus estrategias de precios y posicionamiento en el mercado a partir de información actualizada sobre la competencia, facilitando la toma de decisiones basadas en datos.\n",
    "\n",
    "### Objetivo especifico\n",
    "\n",
    "- Implementar un sistema automatizado para recolectar y analizar datos de productos y precios en tiempo real desde diferentes plataformas de comercio electrónico.\n",
    "- Proveer una herramienta que permita identificar y comparar productos similares, facilitando una estrategia de precios competitiva para la empresa.\n",
    "- Asegurar la flexibilidad de la plataforma para incluir nuevas fuentes de datos y adaptarse a cambios en los sitios de la competencia, manteniendo la actualización continua de la información recopilada.\n",
    "\n",
    "## Metodología empleada de scraping.\n",
    "\n",
    "Para la recolección de datos de precios y características de productos en diversas plataformas de comercio electrónico, se utilizará Scrapy, un framework de Python diseñado para realizar scraping de manera eficiente y escalable.\n",
    "\n"
   ]
  },
  {
   "cell_type": "code",
   "execution_count": 44,
   "metadata": {},
   "outputs": [],
   "source": [
    "from selenium.webdriver import Chrome\n",
    "from selenium import webdriver\n",
    "from webdriver_manager.chrome import ChromeDriverManager\n",
    "from selenium.webdriver.chrome.service import Service\n",
    "from selenium.webdriver.common.by import By\n",
    "import time\n",
    "import pandas as pd"
   ]
  },
  {
   "cell_type": "markdown",
   "metadata": {},
   "source": [
    "Dado que la idea es buscar el mismo producto se debe consultar por código EAN en las diferentes plataformas y con esto siempre estaremos seguros de que estamos encontrando el mismo producto"
   ]
  },
  {
   "cell_type": "code",
   "execution_count": 45,
   "metadata": {},
   "outputs": [],
   "source": [
    "codEan = '194252707166'"
   ]
  },
  {
   "cell_type": "code",
   "execution_count": 46,
   "metadata": {},
   "outputs": [],
   "source": [
    "## Metodo para buscar en los nodos y evitar errores\n",
    "def queryData(prod, selector, name):\n",
    "    try:\n",
    "        return prod.find_element(selector, name)\n",
    "    except:\n",
    "        return None"
   ]
  },
  {
   "cell_type": "code",
   "execution_count": 47,
   "metadata": {},
   "outputs": [],
   "source": [
    "## Crear dataframe\n",
    "df = pd.DataFrame(columns=['PLATAFORMA','NOMBRE', 'PRECIO', 'EAN', 'MARCA', 'IMAGEN', 'CALIFICACION', 'URL'])"
   ]
  },
  {
   "cell_type": "code",
   "execution_count": 48,
   "metadata": {},
   "outputs": [],
   "source": [
    "service = Service(ChromeDriverManager().install())\n",
    "option = webdriver.ChromeOptions()\n",
    "option.add_argument(\"--headless\")\n",
    "driver = webdriver.Chrome(service=service, options=option)"
   ]
  },
  {
   "cell_type": "markdown",
   "metadata": {},
   "source": [
    "#### CONSULTA EN ALKOSTO"
   ]
  },
  {
   "cell_type": "code",
   "execution_count": 49,
   "metadata": {},
   "outputs": [
    {
     "name": "stdout",
     "output_type": "stream",
     "text": [
      "Title: iPhone 13 128GB Azul Medianoche - Price: $2.869.010 - Marca: None - Imagen: https://www.alkosto.com/medias/194252707166-001-310Wx310H?context=bWFzdGVyfGltYWdlc3wzNjY4fGltYWdlL3dlYnB8YURJeEwyZ3dZUzh4TkRNeE5qTTJOVEV4T1RVeE9DOHhPVFF5TlRJM01EY3hOalpmTURBeFh6TXhNRmQ0TXpFd1NBfGQyNTM0OWE4MGE1NDY3MTcwMmRhMTU5ZGE1ZjRiMjZhMTYxZjI3YTQyN2Y4MDQ4M2Y2NGZkMTg5NGI5YjE0MmE\n"
     ]
    }
   ],
   "source": [
    "driver.get(f\"https://www.alkosto.com/search?text={codEan}\")\n",
    "time.sleep(5)\n",
    "products = driver.find_elements(By.CSS_SELECTOR, \".product__list .product__item\")\n",
    "for product in products:\n",
    "    title_element = queryData(product, By.CSS_SELECTOR, \".product__item__top__title\")\n",
    "    title = title_element.text if title_element else None\n",
    "    price_element = queryData(product, By.CSS_SELECTOR, \".price\")\n",
    "    price = price_element.text if price_element else None\n",
    "    marca_element = queryData(product, By.CSS_SELECTOR, \".product__item__top__brand\")\n",
    "    marca = marca_element.text if marca_element else None\n",
    "    imagenProducto_element = queryData(product, By.TAG_NAME, \"img\")\n",
    "    imagenProducto = imagenProducto_element.get_attribute(\"src\") if imagenProducto_element else None\n",
    "    rating_element = queryData(product, By.CSS_SELECTOR, \".averageNumber\")\n",
    "    rating = rating_element.text if rating_element else None\n",
    "    linkProduct_element = queryData(product, By.CSS_SELECTOR, \".product__item__top__link\")\n",
    "    linkProduct = linkProduct_element.get_attribute(\"href\") if linkProduct_element else None\n",
    "\n",
    "    new_row = pd.DataFrame({'PLATAFORMA': ['ALKOSTO'],'NOMBRE': [title], 'PRECIO': [price], 'EAN': [codEan], 'MARCA': [marca], 'IMAGEN': [imagenProducto], 'CALIFICACION': [rating], 'URL': [linkProduct]})\n",
    "    \n",
    "    # Concatenar el DataFrame temporal con el DataFrame principal\n",
    "    df = pd.concat([df, new_row], ignore_index=True)\n",
    "\n",
    "    print(f\"Title: {title} - Price: {price} - Marca: {marca} - Imagen: {imagenProducto}\")"
   ]
  },
  {
   "cell_type": "markdown",
   "metadata": {},
   "source": [
    "#### Consulta en mercado libre"
   ]
  },
  {
   "cell_type": "code",
   "execution_count": 50,
   "metadata": {},
   "outputs": [
    {
     "name": "stdout",
     "output_type": "stream",
     "text": [
      "Title: Apple iPhone 13 (128 GB) - Rosa - Price: 2.411.800 - Marca:  - Imagen: https://http2.mlstatic.com/D_Q_NP_2X_654080-MLA47781882564_102021-V.webp\n",
      "Title: Apple iPhone 11 (64 GB) - Negro - Price: 1.502.999 - Marca:  - Imagen: https://http2.mlstatic.com/D_Q_NP_2X_620960-MLU77638273465_072024-V.webp\n",
      "Title: Apple iPhone 13 (128 GB) - Azul medianoche - Price: 2.411.800 - Marca:  - Imagen: https://http2.mlstatic.com/D_Q_NP_2X_973345-MLA47781591382_102021-V.webp\n",
      "Title: Apple iPhone 13 (128 Gb) - Azul Medianoche - Price: 2.400.000 - Marca:  - Imagen: https://http2.mlstatic.com/D_Q_NP_2X_665631-MCO79432600504_092024-V.webp\n",
      "Title: Apple iPhone 13 (128 GB) - Azul medianoche - Distribuidor Autorizado - Price: 3.033.900 - Marca:  - Imagen: data:image/gif;base64,R0lGODlhAQABAIAAAAAAAP///yH5BAEAAAAALAAAAAABAAEAAAIBRAA7\n"
     ]
    }
   ],
   "source": [
    "driver.get(f\"https://listado.mercadolibre.com.co/{codEan}\")\n",
    "time.sleep(5)\n",
    "products = driver.find_elements(By.CSS_SELECTOR, \".shops__layout-item\")\n",
    "\n",
    "for product in products:\n",
    "    title_element = queryData(prod=product, selector= By.CSS_SELECTOR, name=\".poly-component__title\")\n",
    "    title = title_element if title_element is None else title_element.text\n",
    "    price_element = queryData(prod= queryData(prod=product, selector= By.CSS_SELECTOR, name=\".poly-price__current\"), selector= By.CSS_SELECTOR, name=\".andes-money-amount__fraction\")\n",
    "    price = price_element if price_element is None else price_element.text\n",
    "    marca = \"\"\n",
    "    linkProduct_element = queryData(prod=product, selector= By.TAG_NAME, name=\"a\")\n",
    "    linkProduct = linkProduct_element if linkProduct_element is None else linkProduct_element.get_attribute(\"href\")\n",
    "    imagenProducto_element= queryData(prod=product, selector= By.TAG_NAME, name=\"img\")\n",
    "    imagenProducto = imagenProducto_element if imagenProducto_element is None else imagenProducto_element.get_attribute(\"src\")\n",
    "    rating_element = queryData(prod=product, selector= By.CSS_SELECTOR, name=\".poly-reviews__rating\")\n",
    "    rating = rating_element if rating_element is None else rating_element.text\n",
    "\n",
    "    new_row = pd.DataFrame({'PLATAFORMA': ['MERCADOLIBRE'],'NOMBRE': [title], 'PRECIO': [price], 'EAN': [codEan], 'MARCA': [marca], 'IMAGEN': [imagenProducto], 'CALIFICACION': [rating], 'URL': [linkProduct]})\n",
    "\n",
    "    # Concatenar el DataFrame temporal con el DataFrame principal\n",
    "    df = pd.concat([df, new_row], ignore_index=True)\n",
    "\n",
    "    print(f\"Title: {title} - Price: {price} - Marca: {marca} - Imagen: {imagenProducto}\")"
   ]
  },
  {
   "cell_type": "code",
   "execution_count": 51,
   "metadata": {},
   "outputs": [],
   "source": [
    "driver.quit()"
   ]
  },
  {
   "cell_type": "code",
   "execution_count": 52,
   "metadata": {},
   "outputs": [
    {
     "data": {
      "text/html": [
       "<div>\n",
       "<style scoped>\n",
       "    .dataframe tbody tr th:only-of-type {\n",
       "        vertical-align: middle;\n",
       "    }\n",
       "\n",
       "    .dataframe tbody tr th {\n",
       "        vertical-align: top;\n",
       "    }\n",
       "\n",
       "    .dataframe thead th {\n",
       "        text-align: right;\n",
       "    }\n",
       "</style>\n",
       "<table border=\"1\" class=\"dataframe\">\n",
       "  <thead>\n",
       "    <tr style=\"text-align: right;\">\n",
       "      <th></th>\n",
       "      <th>PLATAFORMA</th>\n",
       "      <th>NOMBRE</th>\n",
       "      <th>PRECIO</th>\n",
       "      <th>EAN</th>\n",
       "      <th>MARCA</th>\n",
       "      <th>IMAGEN</th>\n",
       "      <th>CALIFICACION</th>\n",
       "      <th>URL</th>\n",
       "    </tr>\n",
       "  </thead>\n",
       "  <tbody>\n",
       "    <tr>\n",
       "      <th>0</th>\n",
       "      <td>ALKOSTO</td>\n",
       "      <td>iPhone 13 128GB Azul Medianoche</td>\n",
       "      <td>$2.869.010</td>\n",
       "      <td>194252707166</td>\n",
       "      <td>None</td>\n",
       "      <td>https://www.alkosto.com/medias/194252707166-00...</td>\n",
       "      <td>4.9</td>\n",
       "      <td>https://www.alkosto.com/iphone13-128gb-azul-me...</td>\n",
       "    </tr>\n",
       "    <tr>\n",
       "      <th>1</th>\n",
       "      <td>MERCADOLIBRE</td>\n",
       "      <td>Apple iPhone 13 (128 GB) - Rosa</td>\n",
       "      <td>2.411.800</td>\n",
       "      <td>194252707166</td>\n",
       "      <td></td>\n",
       "      <td>https://http2.mlstatic.com/D_Q_NP_2X_654080-ML...</td>\n",
       "      <td>4.8</td>\n",
       "      <td>https://www.mercadolibre.com.co/apple-iphone-1...</td>\n",
       "    </tr>\n",
       "    <tr>\n",
       "      <th>2</th>\n",
       "      <td>MERCADOLIBRE</td>\n",
       "      <td>Apple iPhone 11 (64 GB) - Negro</td>\n",
       "      <td>1.502.999</td>\n",
       "      <td>194252707166</td>\n",
       "      <td></td>\n",
       "      <td>https://http2.mlstatic.com/D_Q_NP_2X_620960-ML...</td>\n",
       "      <td>4.8</td>\n",
       "      <td>https://www.mercadolibre.com.co/apple-iphone-1...</td>\n",
       "    </tr>\n",
       "    <tr>\n",
       "      <th>3</th>\n",
       "      <td>MERCADOLIBRE</td>\n",
       "      <td>Apple iPhone 13 (128 GB) - Azul medianoche</td>\n",
       "      <td>2.411.800</td>\n",
       "      <td>194252707166</td>\n",
       "      <td></td>\n",
       "      <td>https://http2.mlstatic.com/D_Q_NP_2X_973345-ML...</td>\n",
       "      <td>4.8</td>\n",
       "      <td>https://www.mercadolibre.com.co/apple-iphone-1...</td>\n",
       "    </tr>\n",
       "    <tr>\n",
       "      <th>4</th>\n",
       "      <td>MERCADOLIBRE</td>\n",
       "      <td>Apple iPhone 13 (128 Gb) - Azul Medianoche</td>\n",
       "      <td>2.400.000</td>\n",
       "      <td>194252707166</td>\n",
       "      <td></td>\n",
       "      <td>https://http2.mlstatic.com/D_Q_NP_2X_665631-MC...</td>\n",
       "      <td>None</td>\n",
       "      <td>https://articulo.mercadolibre.com.co/MCO-14869...</td>\n",
       "    </tr>\n",
       "  </tbody>\n",
       "</table>\n",
       "</div>"
      ],
      "text/plain": [
       "     PLATAFORMA                                      NOMBRE      PRECIO  \\\n",
       "0       ALKOSTO             iPhone 13 128GB Azul Medianoche  $2.869.010   \n",
       "1  MERCADOLIBRE             Apple iPhone 13 (128 GB) - Rosa   2.411.800   \n",
       "2  MERCADOLIBRE             Apple iPhone 11 (64 GB) - Negro   1.502.999   \n",
       "3  MERCADOLIBRE  Apple iPhone 13 (128 GB) - Azul medianoche   2.411.800   \n",
       "4  MERCADOLIBRE  Apple iPhone 13 (128 Gb) - Azul Medianoche   2.400.000   \n",
       "\n",
       "            EAN MARCA                                             IMAGEN  \\\n",
       "0  194252707166  None  https://www.alkosto.com/medias/194252707166-00...   \n",
       "1  194252707166        https://http2.mlstatic.com/D_Q_NP_2X_654080-ML...   \n",
       "2  194252707166        https://http2.mlstatic.com/D_Q_NP_2X_620960-ML...   \n",
       "3  194252707166        https://http2.mlstatic.com/D_Q_NP_2X_973345-ML...   \n",
       "4  194252707166        https://http2.mlstatic.com/D_Q_NP_2X_665631-MC...   \n",
       "\n",
       "  CALIFICACION                                                URL  \n",
       "0          4.9  https://www.alkosto.com/iphone13-128gb-azul-me...  \n",
       "1          4.8  https://www.mercadolibre.com.co/apple-iphone-1...  \n",
       "2          4.8  https://www.mercadolibre.com.co/apple-iphone-1...  \n",
       "3          4.8  https://www.mercadolibre.com.co/apple-iphone-1...  \n",
       "4         None  https://articulo.mercadolibre.com.co/MCO-14869...  "
      ]
     },
     "execution_count": 52,
     "metadata": {},
     "output_type": "execute_result"
    }
   ],
   "source": [
    "df.head()"
   ]
  },
  {
   "cell_type": "code",
   "execution_count": 55,
   "metadata": {},
   "outputs": [],
   "source": [
    "df.to_csv('productos.csv', index=False)"
   ]
  },
  {
   "cell_type": "markdown",
   "metadata": {},
   "source": [
    "## Resultados y conclusiones.\n",
    "\n",
    "- Selenium permite conseguir el objetivo de consulta, sin embargo es notablemente lento, en comparacion con otras tecnologias. En particular he tenido la oportunidad de consultar datos de manera masiva para desarrollos de otras empresas y lo he realizado con puppeteer y siento que el proceso se hace más rápido.\n",
    "- Algunos datos podrían ser conseguidos en las consultas, por ello es necesario hacer un hacer uso de estrategias de execpciones para que el aplicativo no reviente.\n",
    "- Si bien Selenium demostró ser efectivo para la recolección de datos en sitios dinámicos, sería beneficioso combinarlo con un framework como Scrapy para un enfoque híbrido en futuros proyectos. Esto permitiría aprovechar la velocidad de Scrapy en los sitios que no requieren interacción dinámica, mejorando el rendimiento general y optimizando el uso de recursos.\n"
   ]
  },
  {
   "cell_type": "markdown",
   "metadata": {},
   "source": [
    "## Bibliografía (Normas APA).\n",
    "\n",
    "Selenium with Python. (n.d.). *Selenium with Python Documentation*. Retrieved November 2, 2024, from https://selenium-python.readthedocs.io/"
   ]
  }
 ],
 "metadata": {
  "kernelspec": {
   "display_name": "env",
   "language": "python",
   "name": "python3"
  },
  "language_info": {
   "codemirror_mode": {
    "name": "ipython",
    "version": 3
   },
   "file_extension": ".py",
   "mimetype": "text/x-python",
   "name": "python",
   "nbconvert_exporter": "python",
   "pygments_lexer": "ipython3",
   "version": "3.12.7"
  }
 },
 "nbformat": 4,
 "nbformat_minor": 2
}
